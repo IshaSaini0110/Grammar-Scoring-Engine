{
 "cells": [
  {
   "cell_type": "code",
   "execution_count": 5,
   "id": "457904fb-7e5f-43fb-9b05-54e072d5009c",
   "metadata": {
    "scrolled": true
   },
   "outputs": [
    {
     "name": "stdout",
     "output_type": "stream",
     "text": [
      "Collecting openai-whisper\n",
      "  Downloading openai-whisper-20240930.tar.gz (800 kB)\n",
      "     ---------------------------------------- 0.0/800.5 kB ? eta -:--:--\n",
      "     ---------------------------------------- 0.0/800.5 kB ? eta -:--:--\n",
      "     ---------------------------------------- 0.0/800.5 kB ? eta -:--:--\n",
      "     ------------- -------------------------- 262.1/800.5 kB ? eta -:--:--\n",
      "     ----------------------- ------------ 524.3/800.5 kB 985.5 kB/s eta 0:00:01\n",
      "     -------------------------------------- 800.5/800.5 kB 1.0 MB/s eta 0:00:00\n",
      "  Installing build dependencies: started\n",
      "  Installing build dependencies: finished with status 'done'\n",
      "  Getting requirements to build wheel: started\n",
      "  Getting requirements to build wheel: finished with status 'done'\n",
      "  Preparing metadata (pyproject.toml): started\n",
      "  Preparing metadata (pyproject.toml): finished with status 'done'\n",
      "Collecting numba (from openai-whisper)\n",
      "  Downloading numba-0.61.0-cp310-cp310-win_amd64.whl.metadata (2.8 kB)\n",
      "Requirement already satisfied: numpy in e:\\anaconda software\\envs\\tf\\lib\\site-packages (from openai-whisper) (1.26.4)\n",
      "Requirement already satisfied: torch in e:\\anaconda software\\envs\\tf\\lib\\site-packages (from openai-whisper) (2.6.0)\n",
      "Requirement already satisfied: tqdm in e:\\anaconda software\\envs\\tf\\lib\\site-packages (from openai-whisper) (4.66.5)\n",
      "Collecting more-itertools (from openai-whisper)\n",
      "  Downloading more_itertools-10.6.0-py3-none-any.whl.metadata (37 kB)\n",
      "Collecting tiktoken (from openai-whisper)\n",
      "  Downloading tiktoken-0.9.0-cp310-cp310-win_amd64.whl.metadata (6.8 kB)\n",
      "Collecting llvmlite<0.45,>=0.44.0dev0 (from numba->openai-whisper)\n",
      "  Downloading llvmlite-0.44.0-cp310-cp310-win_amd64.whl.metadata (5.0 kB)\n",
      "Collecting regex>=2022.1.18 (from tiktoken->openai-whisper)\n",
      "  Downloading regex-2024.11.6-cp310-cp310-win_amd64.whl.metadata (41 kB)\n",
      "Requirement already satisfied: requests>=2.26.0 in e:\\anaconda software\\envs\\tf\\lib\\site-packages (from tiktoken->openai-whisper) (2.32.3)\n",
      "Requirement already satisfied: filelock in e:\\anaconda software\\envs\\tf\\lib\\site-packages (from torch->openai-whisper) (3.15.4)\n",
      "Requirement already satisfied: typing-extensions>=4.10.0 in e:\\anaconda software\\envs\\tf\\lib\\site-packages (from torch->openai-whisper) (4.12.2)\n",
      "Requirement already satisfied: networkx in e:\\anaconda software\\envs\\tf\\lib\\site-packages (from torch->openai-whisper) (3.3)\n",
      "Requirement already satisfied: jinja2 in e:\\anaconda software\\envs\\tf\\lib\\site-packages (from torch->openai-whisper) (3.1.4)\n",
      "Requirement already satisfied: fsspec in e:\\anaconda software\\envs\\tf\\lib\\site-packages (from torch->openai-whisper) (2024.9.0)\n",
      "Requirement already satisfied: sympy==1.13.1 in e:\\anaconda software\\envs\\tf\\lib\\site-packages (from torch->openai-whisper) (1.13.1)\n",
      "Requirement already satisfied: mpmath<1.4,>=1.1.0 in e:\\anaconda software\\envs\\tf\\lib\\site-packages (from sympy==1.13.1->torch->openai-whisper) (1.3.0)\n",
      "Requirement already satisfied: colorama in e:\\anaconda software\\envs\\tf\\lib\\site-packages (from tqdm->openai-whisper) (0.4.6)\n",
      "Requirement already satisfied: charset-normalizer<4,>=2 in e:\\anaconda software\\envs\\tf\\lib\\site-packages (from requests>=2.26.0->tiktoken->openai-whisper) (3.3.2)\n",
      "Requirement already satisfied: idna<4,>=2.5 in e:\\anaconda software\\envs\\tf\\lib\\site-packages (from requests>=2.26.0->tiktoken->openai-whisper) (3.7)\n",
      "Requirement already satisfied: urllib3<3,>=1.21.1 in e:\\anaconda software\\envs\\tf\\lib\\site-packages (from requests>=2.26.0->tiktoken->openai-whisper) (2.2.2)\n",
      "Requirement already satisfied: certifi>=2017.4.17 in e:\\anaconda software\\envs\\tf\\lib\\site-packages (from requests>=2.26.0->tiktoken->openai-whisper) (2024.8.30)\n",
      "Requirement already satisfied: MarkupSafe>=2.0 in e:\\anaconda software\\envs\\tf\\lib\\site-packages (from jinja2->torch->openai-whisper) (2.1.5)\n",
      "Downloading more_itertools-10.6.0-py3-none-any.whl (63 kB)\n",
      "Downloading numba-0.61.0-cp310-cp310-win_amd64.whl (2.8 MB)\n",
      "   ---------------------------------------- 0.0/2.8 MB ? eta -:--:--\n",
      "   ---------------------------------------- 0.0/2.8 MB ? eta -:--:--\n",
      "   --- ------------------------------------ 0.3/2.8 MB ? eta -:--:--\n",
      "   --- ------------------------------------ 0.3/2.8 MB ? eta -:--:--\n",
      "   --- ------------------------------------ 0.3/2.8 MB ? eta -:--:--\n",
      "   --- ------------------------------------ 0.3/2.8 MB ? eta -:--:--\n",
      "   ------- -------------------------------- 0.5/2.8 MB 372.9 kB/s eta 0:00:07\n",
      "   ------- -------------------------------- 0.5/2.8 MB 372.9 kB/s eta 0:00:07\n",
      "   ----------- ---------------------------- 0.8/2.8 MB 453.5 kB/s eta 0:00:05\n",
      "   ----------- ---------------------------- 0.8/2.8 MB 453.5 kB/s eta 0:00:05\n",
      "   ------------------ --------------------- 1.3/2.8 MB 639.0 kB/s eta 0:00:03\n",
      "   ---------------------- ----------------- 1.6/2.8 MB 729.4 kB/s eta 0:00:02\n",
      "   ----------------------------- ---------- 2.1/2.8 MB 883.1 kB/s eta 0:00:01\n",
      "   --------------------------------- ------ 2.4/2.8 MB 945.1 kB/s eta 0:00:01\n",
      "   ---------------------------------------- 2.8/2.8 MB 1.1 MB/s eta 0:00:00\n",
      "Downloading tiktoken-0.9.0-cp310-cp310-win_amd64.whl (894 kB)\n",
      "   ---------------------------------------- 0.0/894.0 kB ? eta -:--:--\n",
      "   ----------- ---------------------------- 262.1/894.0 kB ? eta -:--:--\n",
      "   ----------------------- ---------------- 524.3/894.0 kB 1.9 MB/s eta 0:00:01\n",
      "   ---------------------------------------- 894.0/894.0 kB 1.9 MB/s eta 0:00:00\n",
      "Downloading llvmlite-0.44.0-cp310-cp310-win_amd64.whl (30.3 MB)\n",
      "   ---------------------------------------- 0.0/30.3 MB ? eta -:--:--\n",
      "   ---------------------------------------- 0.3/30.3 MB ? eta -:--:--\n",
      "   - -------------------------------------- 0.8/30.3 MB 2.1 MB/s eta 0:00:15\n",
      "   - -------------------------------------- 1.0/30.3 MB 2.0 MB/s eta 0:00:15\n",
      "   - -------------------------------------- 1.3/30.3 MB 1.8 MB/s eta 0:00:17\n",
      "   -- ------------------------------------- 1.8/30.3 MB 1.8 MB/s eta 0:00:16\n",
      "   -- ------------------------------------- 2.1/30.3 MB 1.8 MB/s eta 0:00:16\n",
      "   --- ------------------------------------ 2.4/30.3 MB 1.8 MB/s eta 0:00:16\n",
      "   --- ------------------------------------ 2.9/30.3 MB 1.8 MB/s eta 0:00:16\n",
      "   ---- ----------------------------------- 3.1/30.3 MB 1.8 MB/s eta 0:00:16\n",
      "   ---- ----------------------------------- 3.4/30.3 MB 1.8 MB/s eta 0:00:16\n",
      "   ----- ---------------------------------- 3.9/30.3 MB 1.8 MB/s eta 0:00:15\n",
      "   ----- ---------------------------------- 4.2/30.3 MB 1.8 MB/s eta 0:00:15\n",
      "   ------ --------------------------------- 4.7/30.3 MB 1.8 MB/s eta 0:00:15\n",
      "   ------ --------------------------------- 5.2/30.3 MB 1.8 MB/s eta 0:00:14\n",
      "   ------- -------------------------------- 5.5/30.3 MB 1.8 MB/s eta 0:00:14\n",
      "   ------- -------------------------------- 6.0/30.3 MB 1.9 MB/s eta 0:00:14\n",
      "   -------- ------------------------------- 6.6/30.3 MB 1.9 MB/s eta 0:00:13\n",
      "   --------- ------------------------------ 7.1/30.3 MB 1.9 MB/s eta 0:00:13\n",
      "   --------- ------------------------------ 7.3/30.3 MB 1.9 MB/s eta 0:00:13\n",
      "   ---------- ----------------------------- 7.9/30.3 MB 1.9 MB/s eta 0:00:12\n",
      "   ---------- ----------------------------- 8.1/30.3 MB 1.9 MB/s eta 0:00:12\n",
      "   ----------- ---------------------------- 8.7/30.3 MB 1.9 MB/s eta 0:00:12\n",
      "   ----------- ---------------------------- 8.9/30.3 MB 1.9 MB/s eta 0:00:12\n",
      "   ------------ --------------------------- 9.7/30.3 MB 2.0 MB/s eta 0:00:11\n",
      "   ------------- -------------------------- 10.2/30.3 MB 2.0 MB/s eta 0:00:11\n",
      "   -------------- ------------------------- 10.7/30.3 MB 2.0 MB/s eta 0:00:10\n",
      "   -------------- ------------------------- 11.3/30.3 MB 2.1 MB/s eta 0:00:10\n",
      "   --------------- ------------------------ 11.8/30.3 MB 2.1 MB/s eta 0:00:09\n",
      "   --------------- ------------------------ 12.1/30.3 MB 2.1 MB/s eta 0:00:09\n",
      "   --------------- ------------------------ 12.1/30.3 MB 2.1 MB/s eta 0:00:09\n",
      "   --------------- ------------------------ 12.1/30.3 MB 2.1 MB/s eta 0:00:09\n",
      "   --------------- ------------------------ 12.1/30.3 MB 2.1 MB/s eta 0:00:09\n",
      "   ---------------- ----------------------- 12.6/30.3 MB 1.9 MB/s eta 0:00:10\n",
      "   ----------------- ---------------------- 13.1/30.3 MB 1.9 MB/s eta 0:00:10\n",
      "   ------------------ --------------------- 13.9/30.3 MB 1.9 MB/s eta 0:00:09\n",
      "   ------------------- -------------------- 14.7/30.3 MB 2.0 MB/s eta 0:00:08\n",
      "   -------------------- ------------------- 15.5/30.3 MB 2.1 MB/s eta 0:00:08\n",
      "   --------------------- ------------------ 16.5/30.3 MB 2.1 MB/s eta 0:00:07\n",
      "   ---------------------- ----------------- 17.3/30.3 MB 2.2 MB/s eta 0:00:07\n",
      "   ----------------------- ---------------- 18.1/30.3 MB 2.2 MB/s eta 0:00:06\n",
      "   ------------------------ --------------- 18.6/30.3 MB 2.2 MB/s eta 0:00:06\n",
      "   ------------------------- -------------- 19.4/30.3 MB 2.3 MB/s eta 0:00:05\n",
      "   -------------------------- ------------- 20.2/30.3 MB 2.3 MB/s eta 0:00:05\n",
      "   --------------------------- ------------ 20.7/30.3 MB 2.3 MB/s eta 0:00:05\n",
      "   ---------------------------- ----------- 21.2/30.3 MB 2.3 MB/s eta 0:00:04\n",
      "   ---------------------------- ----------- 21.8/30.3 MB 2.3 MB/s eta 0:00:04\n",
      "   ----------------------------- ---------- 22.3/30.3 MB 2.3 MB/s eta 0:00:04\n",
      "   ----------------------------- ---------- 22.5/30.3 MB 2.3 MB/s eta 0:00:04\n",
      "   ----------------------------- ---------- 22.5/30.3 MB 2.3 MB/s eta 0:00:04\n",
      "   ----------------------------- ---------- 22.5/30.3 MB 2.3 MB/s eta 0:00:04\n",
      "   ------------------------------- -------- 23.6/30.3 MB 2.2 MB/s eta 0:00:04\n",
      "   ------------------------------- -------- 23.9/30.3 MB 2.3 MB/s eta 0:00:03\n",
      "   ------------------------------- -------- 23.9/30.3 MB 2.3 MB/s eta 0:00:03\n",
      "   ------------------------------- -------- 23.9/30.3 MB 2.3 MB/s eta 0:00:03\n",
      "   -------------------------------- ------- 24.4/30.3 MB 2.2 MB/s eta 0:00:03\n",
      "   --------------------------------- ------ 25.2/30.3 MB 2.2 MB/s eta 0:00:03\n",
      "   --------------------------------- ------ 25.7/30.3 MB 2.2 MB/s eta 0:00:03\n",
      "   ---------------------------------- ----- 26.0/30.3 MB 2.2 MB/s eta 0:00:03\n",
      "   ---------------------------------- ----- 26.5/30.3 MB 2.2 MB/s eta 0:00:02\n",
      "   ----------------------------------- ---- 27.3/30.3 MB 2.2 MB/s eta 0:00:02\n",
      "   ------------------------------------ --- 28.0/30.3 MB 2.2 MB/s eta 0:00:02\n",
      "   ------------------------------------- -- 28.6/30.3 MB 2.2 MB/s eta 0:00:01\n",
      "   -------------------------------------- - 29.1/30.3 MB 2.3 MB/s eta 0:00:01\n",
      "   ---------------------------------------  29.6/30.3 MB 2.3 MB/s eta 0:00:01\n",
      "   ---------------------------------------  30.1/30.3 MB 2.3 MB/s eta 0:00:01\n",
      "   ---------------------------------------- 30.3/30.3 MB 2.3 MB/s eta 0:00:00\n",
      "Downloading regex-2024.11.6-cp310-cp310-win_amd64.whl (274 kB)\n",
      "Building wheels for collected packages: openai-whisper\n",
      "  Building wheel for openai-whisper (pyproject.toml): started\n",
      "  Building wheel for openai-whisper (pyproject.toml): finished with status 'done'\n",
      "  Created wheel for openai-whisper: filename=openai_whisper-20240930-py3-none-any.whl size=803439 sha256=fedde66d3a925384ff6ae7958c8d73e6dc1af3fcaffc61fe6459e28b460f8264\n",
      "  Stored in directory: c:\\users\\asus\\appdata\\local\\pip\\cache\\wheels\\dd\\4a\\1f\\d1c4bf3b9133c8168fe617ed979cab7b14fe381d059ffb9d83\n",
      "Successfully built openai-whisper\n",
      "Installing collected packages: regex, more-itertools, llvmlite, tiktoken, numba, openai-whisper\n",
      "Successfully installed llvmlite-0.44.0 more-itertools-10.6.0 numba-0.61.0 openai-whisper-20240930 regex-2024.11.6 tiktoken-0.9.0\n"
     ]
    }
   ],
   "source": [
    "!pip install -U openai-whisper\n"
   ]
  },
  {
   "cell_type": "code",
   "execution_count": 7,
   "id": "ec521405-7c1a-41d0-a5f7-ab7fa4a51cda",
   "metadata": {
    "scrolled": true
   },
   "outputs": [
    {
     "name": "stdout",
     "output_type": "stream",
     "text": [
      "Collecting language-tool-python\n",
      "  Downloading language_tool_python-2.9.2-py3-none-any.whl.metadata (54 kB)\n",
      "Requirement already satisfied: requests in e:\\anaconda software\\envs\\tf\\lib\\site-packages (from language-tool-python) (2.32.3)\n",
      "Requirement already satisfied: tqdm in e:\\anaconda software\\envs\\tf\\lib\\site-packages (from language-tool-python) (4.66.5)\n",
      "Requirement already satisfied: psutil in e:\\anaconda software\\envs\\tf\\lib\\site-packages (from language-tool-python) (6.0.0)\n",
      "Collecting toml (from language-tool-python)\n",
      "  Downloading toml-0.10.2-py2.py3-none-any.whl.metadata (7.1 kB)\n",
      "Requirement already satisfied: charset-normalizer<4,>=2 in e:\\anaconda software\\envs\\tf\\lib\\site-packages (from requests->language-tool-python) (3.3.2)\n",
      "Requirement already satisfied: idna<4,>=2.5 in e:\\anaconda software\\envs\\tf\\lib\\site-packages (from requests->language-tool-python) (3.7)\n",
      "Requirement already satisfied: urllib3<3,>=1.21.1 in e:\\anaconda software\\envs\\tf\\lib\\site-packages (from requests->language-tool-python) (2.2.2)\n",
      "Requirement already satisfied: certifi>=2017.4.17 in e:\\anaconda software\\envs\\tf\\lib\\site-packages (from requests->language-tool-python) (2024.8.30)\n",
      "Requirement already satisfied: colorama in e:\\anaconda software\\envs\\tf\\lib\\site-packages (from tqdm->language-tool-python) (0.4.6)\n",
      "Downloading language_tool_python-2.9.2-py3-none-any.whl (54 kB)\n",
      "Downloading toml-0.10.2-py2.py3-none-any.whl (16 kB)\n",
      "Installing collected packages: toml, language-tool-python\n",
      "Successfully installed language-tool-python-2.9.2 toml-0.10.2\n"
     ]
    }
   ],
   "source": [
    "!pip install language-tool-python\n"
   ]
  },
  {
   "cell_type": "code",
   "execution_count": 1,
   "id": "f4263175-fe3b-4e00-bcde-f6cba7220c39",
   "metadata": {},
   "outputs": [],
   "source": [
    "import os\n",
    "import whisper\n",
    "import pandas as pd\n",
    "import numpy as np\n",
    "import language_tool_python\n",
    "from tqdm import tqdm\n",
    "import pandas as pd\n",
    "from scipy.stats import pearsonr\n",
    "from sklearn.metrics import mean_absolute_error\n"
   ]
  },
  {
   "cell_type": "code",
   "execution_count": 2,
   "id": "b77997da-b186-4a54-afeb-aaac2dc81481",
   "metadata": {},
   "outputs": [
    {
     "name": "stdout",
     "output_type": "stream",
     "text": [
      "Index(['filename', 'label'], dtype='object')\n"
     ]
    },
    {
     "data": {
      "text/html": [
       "<div>\n",
       "<style scoped>\n",
       "    .dataframe tbody tr th:only-of-type {\n",
       "        vertical-align: middle;\n",
       "    }\n",
       "\n",
       "    .dataframe tbody tr th {\n",
       "        vertical-align: top;\n",
       "    }\n",
       "\n",
       "    .dataframe thead th {\n",
       "        text-align: right;\n",
       "    }\n",
       "</style>\n",
       "<table border=\"1\" class=\"dataframe\">\n",
       "  <thead>\n",
       "    <tr style=\"text-align: right;\">\n",
       "      <th></th>\n",
       "      <th>filename</th>\n",
       "      <th>label</th>\n",
       "    </tr>\n",
       "  </thead>\n",
       "  <tbody>\n",
       "    <tr>\n",
       "      <th>0</th>\n",
       "      <td>audio_1261.wav</td>\n",
       "      <td>1.0</td>\n",
       "    </tr>\n",
       "    <tr>\n",
       "      <th>1</th>\n",
       "      <td>audio_942.wav</td>\n",
       "      <td>1.5</td>\n",
       "    </tr>\n",
       "    <tr>\n",
       "      <th>2</th>\n",
       "      <td>audio_1110.wav</td>\n",
       "      <td>1.5</td>\n",
       "    </tr>\n",
       "    <tr>\n",
       "      <th>3</th>\n",
       "      <td>audio_1024.wav</td>\n",
       "      <td>1.5</td>\n",
       "    </tr>\n",
       "    <tr>\n",
       "      <th>4</th>\n",
       "      <td>audio_538.wav</td>\n",
       "      <td>2.0</td>\n",
       "    </tr>\n",
       "  </tbody>\n",
       "</table>\n",
       "</div>"
      ],
      "text/plain": [
       "         filename  label\n",
       "0  audio_1261.wav    1.0\n",
       "1   audio_942.wav    1.5\n",
       "2  audio_1110.wav    1.5\n",
       "3  audio_1024.wav    1.5\n",
       "4   audio_538.wav    2.0"
      ]
     },
     "execution_count": 2,
     "metadata": {},
     "output_type": "execute_result"
    }
   ],
   "source": [
    "\n",
    "# Load CSV\n",
    "train_df = pd.read_csv(\"C:\\\\Users\\\\ASUS\\\\Downloads\\\\isha\\\\dataset\\\\train.csv\")\n",
    "print(train_df.columns)\n",
    "train_df.head()"
   ]
  },
  {
   "cell_type": "code",
   "execution_count": 3,
   "id": "48bc95bd-857a-4994-8a3e-dc4355083387",
   "metadata": {},
   "outputs": [
    {
     "name": "stdout",
     "output_type": "stream",
     "text": [
      "Index(['filename'], dtype='object')\n"
     ]
    },
    {
     "data": {
      "text/html": [
       "<div>\n",
       "<style scoped>\n",
       "    .dataframe tbody tr th:only-of-type {\n",
       "        vertical-align: middle;\n",
       "    }\n",
       "\n",
       "    .dataframe tbody tr th {\n",
       "        vertical-align: top;\n",
       "    }\n",
       "\n",
       "    .dataframe thead th {\n",
       "        text-align: right;\n",
       "    }\n",
       "</style>\n",
       "<table border=\"1\" class=\"dataframe\">\n",
       "  <thead>\n",
       "    <tr style=\"text-align: right;\">\n",
       "      <th></th>\n",
       "      <th>filename</th>\n",
       "    </tr>\n",
       "  </thead>\n",
       "  <tbody>\n",
       "    <tr>\n",
       "      <th>0</th>\n",
       "      <td>audio_706.wav</td>\n",
       "    </tr>\n",
       "    <tr>\n",
       "      <th>1</th>\n",
       "      <td>audio_800.wav</td>\n",
       "    </tr>\n",
       "    <tr>\n",
       "      <th>2</th>\n",
       "      <td>audio_68.wav</td>\n",
       "    </tr>\n",
       "    <tr>\n",
       "      <th>3</th>\n",
       "      <td>audio_1267.wav</td>\n",
       "    </tr>\n",
       "    <tr>\n",
       "      <th>4</th>\n",
       "      <td>audio_683.wav</td>\n",
       "    </tr>\n",
       "  </tbody>\n",
       "</table>\n",
       "</div>"
      ],
      "text/plain": [
       "         filename\n",
       "0   audio_706.wav\n",
       "1   audio_800.wav\n",
       "2    audio_68.wav\n",
       "3  audio_1267.wav\n",
       "4   audio_683.wav"
      ]
     },
     "execution_count": 3,
     "metadata": {},
     "output_type": "execute_result"
    }
   ],
   "source": [
    "test_df = pd.read_csv(\"C:\\\\Users\\\\ASUS\\\\Downloads\\\\isha\\\\dataset\\\\test.csv\")\n",
    "print(test_df.columns)\n",
    "test_df.head()"
   ]
  },
  {
   "cell_type": "code",
   "execution_count": null,
   "id": "f165b288-a890-4d3f-85f7-9b3e103cec85",
   "metadata": {},
   "outputs": [],
   "source": []
  },
  {
   "cell_type": "code",
   "execution_count": 4,
   "id": "c9f87bf7-678a-45a8-bbf3-4dec1c61b02f",
   "metadata": {},
   "outputs": [],
   "source": [
    "TRAIN_AUDIO_DIR = \"C:\\\\Users\\\\ASUS\\\\Downloads\\\\isha\\\\dataset\\\\audios_train\"\n",
    "TEST_AUDIO_DIR = \"C:\\\\Users\\\\ASUS\\\\Downloads\\\\isha\\\\dataset\\\\audios_test\"\n",
    "TRAIN_CSV = \"C:\\\\Users\\\\ASUS\\\\Downloads\\\\isha\\\\dataset\\\\train.csv\"\n",
    "TEST_CSV = \"C:\\\\Users\\\\ASUS\\\\Downloads\\\\isha\\\\dataset\\\\test.csv\""
   ]
  },
  {
   "cell_type": "code",
   "execution_count": 5,
   "id": "392498f4-200d-4464-9177-021fb732b872",
   "metadata": {},
   "outputs": [],
   "source": [
    "model = whisper.load_model(\"base\")\n",
    "\n",
    "def transcribe_audio(path):\n",
    "    try:\n",
    "        result = model.transcribe(path)\n",
    "        return result[\"text\"]\n",
    "    except Exception as e:\n",
    "        print(f\"Error transcribing {path}: {e}\")\n",
    "        return \"\""
   ]
  },
  {
   "cell_type": "code",
   "execution_count": 6,
   "id": "f9e24ead-24b7-4e4c-8c0c-58b6611ff66e",
   "metadata": {},
   "outputs": [],
   "source": [
    "tool = language_tool_python.LanguageTool('en-US')\n",
    "\n",
    "def grammar_score(text):\n",
    "    if not text.strip():\n",
    "        return 0.0  # No transcription = worst score\n",
    "\n",
    "    matches = tool.check(text)\n",
    "    num_errors = len(matches)\n",
    "    num_words = len(text.split())\n",
    "\n",
    "    if num_words == 0:\n",
    "        return 0.0\n",
    "\n",
    "    error_rate = num_errors / num_words\n",
    "\n",
    "    # Heuristic scoring (can be tuned)\n",
    "    if error_rate > 0.25:\n",
    "        return 1.0\n",
    "    elif error_rate > 0.18:\n",
    "        return 2.0\n",
    "    elif error_rate > 0.12:\n",
    "        return 3.0\n",
    "    elif error_rate > 0.06:\n",
    "        return 4.0\n",
    "    else:\n",
    "        return 5.0"
   ]
  },
  {
   "cell_type": "code",
   "execution_count": 7,
   "id": "7a4e2593-c1cf-4ff7-af05-d3822f36a92c",
   "metadata": {},
   "outputs": [],
   "source": [
    "def compute_score(transcription):\n",
    "    if not transcription.strip():\n",
    "        return 0.0\n",
    "\n",
    "    matches = tool.check(transcription)\n",
    "    num_words = len(transcription.split())\n",
    "    num_errors = len(matches)\n",
    "\n",
    "    grammar_errors = [m for m in matches if m.ruleIssueType == 'grammar']\n",
    "    spelling_errors = [m for m in matches if m.ruleId.startswith(\"MORFOLOGIK\")]\n",
    "\n",
    "    # Scoring logic (tunable)\n",
    "    penalty = (\n",
    "        0.3 * len(grammar_errors) +\n",
    "        0.2 * len(spelling_errors) +\n",
    "        0.1 * (num_errors - len(grammar_errors) - len(spelling_errors))\n",
    "    )\n",
    "\n",
    "    score = 5.0 - penalty\n",
    "    return max(0.0, min(5.0, score))"
   ]
  },
  {
   "cell_type": "code",
   "execution_count": 8,
   "id": "a392c96f-312c-4b14-95c1-b760ebaea665",
   "metadata": {},
   "outputs": [
    {
     "name": "stdout",
     "output_type": "stream",
     "text": [
      "Index(['filename', 'label'], dtype='object')\n"
     ]
    }
   ],
   "source": [
    "print(train_df.columns)\n"
   ]
  },
  {
   "cell_type": "code",
   "execution_count": 12,
   "id": "f277eb68-5e56-4f91-a6c4-29cbd4d083dc",
   "metadata": {},
   "outputs": [
    {
     "name": "stderr",
     "output_type": "stream",
     "text": [
      "100%|██████████████████████████████████████████████████████████████████████████████| 444/444 [6:16:16<00:00, 50.85s/it]\n"
     ]
    }
   ],
   "source": [
    "model = whisper.load_model(\"base\")  # or \"small\" / \"medium\"\n",
    "tool = language_tool_python.LanguageTool(\"en-US\")\n",
    "\n",
    "predicted_scores = []\n",
    "\n",
    "for filename in tqdm(train_df[\"filename\"]):\n",
    "    file_path = f\"C:\\\\Users\\\\ASUS\\\\Downloads\\\\isha\\\\dataset\\\\audios_train\\\\{filename}\"\n",
    "\n",
    "    try:\n",
    "        # 1. Transcribe\n",
    "        result = model.transcribe(file_path)\n",
    "        transcription = result[\"text\"]\n",
    "\n",
    "        # 2. Check grammar\n",
    "        matches = tool.check(transcription)\n",
    "        num_errors = len(matches)\n",
    "        words = len(transcription.split())\n",
    "\n",
    "        # 3. Score: you can tweak this formula to make it stricter\n",
    "        score = max(0.0, 5.0 - (num_errors / words * 5.0)) if words > 0 else 0.0\n",
    "        predicted_scores.append(score)\n",
    "\n",
    "    except Exception as e:\n",
    "        print(f\"Error with file {filename}: {e}\")\n",
    "        predicted_scores.append(0.0)\n"
   ]
  },
  {
   "cell_type": "code",
   "execution_count": 13,
   "id": "849cea59-b398-480e-9413-96312d6e4b1e",
   "metadata": {},
   "outputs": [
    {
     "name": "stdout",
     "output_type": "stream",
     "text": [
      "🔍 Length of train_df: 444\n",
      "🧮 Length of predicted_scores: 444\n"
     ]
    }
   ],
   "source": [
    "print(f\"🔍 Length of train_df: {len(train_df)}\")\n",
    "print(f\"🧮 Length of predicted_scores: {len(predicted_scores)}\")\n"
   ]
  },
  {
   "cell_type": "code",
   "execution_count": 14,
   "id": "5cb6e8ef-f723-4e0e-b81f-1242a56c6b29",
   "metadata": {},
   "outputs": [
    {
     "name": "stdout",
     "output_type": "stream",
     "text": [
      "📊 Pearson Correlation: -0.1059\n"
     ]
    }
   ],
   "source": [
    "train_df[\"predicted_score\"] = predicted_scores\n",
    "train_df.rename(columns={\"label\": \"score\"}, inplace=True)\n",
    "\n",
    "# Convert and compute correlation\n",
    "train_df[\"score\"] = train_df[\"score\"].astype(float)\n",
    "train_df[\"predicted_score\"] = train_df[\"predicted_score\"].astype(float)\n",
    "\n",
    "from scipy.stats import pearsonr\n",
    "pearson_corr, _ = pearsonr(train_df[\"score\"], train_df[\"predicted_score\"])\n",
    "print(f\"📊 Pearson Correlation: {pearson_corr:.4f}\")"
   ]
  },
  {
   "cell_type": "code",
   "execution_count": 15,
   "id": "ffdcbd38-ab22-406d-adaf-572f859f0be7",
   "metadata": {},
   "outputs": [
    {
     "name": "stdout",
     "output_type": "stream",
     "text": [
      "count    444.000000\n",
      "mean       3.617117\n",
      "std        1.114151\n",
      "min        1.000000\n",
      "25%        2.500000\n",
      "50%        3.500000\n",
      "75%        4.500000\n",
      "max        5.000000\n",
      "Name: score, dtype: float64\n",
      "count    444.000000\n",
      "mean       4.699564\n",
      "std        0.669824\n",
      "min        0.000000\n",
      "25%        4.737173\n",
      "50%        4.883721\n",
      "75%        4.960000\n",
      "max        5.000000\n",
      "Name: predicted_score, dtype: float64\n"
     ]
    }
   ],
   "source": [
    "print(train_df[\"score\"].describe())\n",
    "print(train_df[\"predicted_score\"].describe())\n"
   ]
  },
  {
   "cell_type": "code",
   "execution_count": 16,
   "id": "8c565223-2d9b-4833-98c6-44a304a44412",
   "metadata": {},
   "outputs": [
    {
     "name": "stdout",
     "output_type": "stream",
     "text": [
      "📊 Pearson Correlation: -0.1059\n",
      "📉 Mean Absolute Error (MAE): 1.3836\n"
     ]
    }
   ],
   "source": [
    "from scipy.stats import pearsonr\n",
    "from sklearn.metrics import mean_absolute_error\n",
    "\n",
    "pearson_corr, _ = pearsonr(train_df[\"score\"], train_df[\"predicted_score\"])\n",
    "mae = mean_absolute_error(train_df[\"score\"], train_df[\"predicted_score\"])\n",
    "\n",
    "print(f\"📊 Pearson Correlation: {pearson_corr:.4f}\")\n",
    "print(f\"📉 Mean Absolute Error (MAE): {mae:.4f}\")\n"
   ]
  },
  {
   "cell_type": "code",
   "execution_count": 17,
   "id": "d8af189d-9116-421f-bc35-5a9849000693",
   "metadata": {},
   "outputs": [
    {
     "data": {
      "image/png": "[encoded data removed]",
      "text/plain": [
       "<Figure size 600x600 with 1 Axes>"
      ]
     },
     "metadata": {},
     "output_type": "display_data"
    }
   ],
   "source": [
    "import matplotlib.pyplot as plt\n",
    "\n",
    "plt.figure(figsize=(6, 6))\n",
    "plt.scatter(train_df[\"score\"], train_df[\"predicted_score\"], alpha=0.6)\n",
    "plt.xlabel(\"True Score\")\n",
    "plt.ylabel(\"Predicted Score\")\n",
    "plt.title(\"True vs Predicted Grammar Scores\")\n",
    "plt.grid(True)\n",
    "plt.show()\n"
   ]
  },
  {
   "cell_type": "code",
   "execution_count": null,
   "id": "085eb388-516c-4033-9f07-191ea80202f2",
   "metadata": {},
   "outputs": [],
   "source": []
  }
 ],
 "metadata": {
  "kernelspec": {
   "display_name": "tf",
   "language": "python",
   "name": "tf"
  },
  "language_info": {
   "codemirror_mode": {
    "name": "ipython",
    "version": 3
   },
   "file_extension": ".py",
   "mimetype": "text/x-python",
   "name": "python",
   "nbconvert_exporter": "python",
   "pygments_lexer": "ipython3",
   "version": "3.10.14"
  }
 },
 "nbformat": 4,
 "nbformat_minor": 5
}
